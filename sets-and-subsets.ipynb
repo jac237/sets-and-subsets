{
 "cells": [
  {
   "cell_type": "markdown",
   "metadata": {},
   "source": [
    "# Sets, Subsets, and *MORE* Sets!"
   ]
  },
  {
   "cell_type": "markdown",
   "metadata": {},
   "source": [
    "## Introduction"
   ]
  },
  {
   "cell_type": "markdown",
   "metadata": {},
   "source": [
    "A set is simply a collect of objects, not necessarily in a specific order. For our purposes, we will only use numbers, namely, integers. \n",
    "\n",
    "Define a set $[n]$ as a set such that $[n] = \\{1, 2, 3, \\dots, n\\}$.\n",
    "\n",
    "Subsets, $H$, of $[n]$ (denoted $H \\subseteq [n]$) are sets that contain any number of elements of $[n]$, with no repetitions or specified order.  \n",
    "A proper subset (denoted $H \\subset [n]$) has the special condition that $H$ is **not** equal to the original set (or $H \\subseteq [n]$ and $H \\neq [n]$)."
   ]
  },
  {
   "cell_type": "markdown",
   "metadata": {},
   "source": [
    "Let our set be $[5] = \\{1,2,3,4,5\\}$.\n",
    "\n",
    "Examples subsets of $[5]$:\n",
    "1. $ H = \\emptyset $ (The empty set)\n",
    "2. $ H = \\{1, 2, 5\\} $\n",
    "3. $ H = \\{1, 2\\} $\n",
    "4. $ H = \\{1, 2, 4, 5\\} $\n",
    "5. $ H = \\{1, 2, 3, 4, 5\\} $\n",
    "\n",
    "*Note*: $ H = \\{1, 2, 5\\} = \\{1, 5, 2\\} = \\{2, 1, 5\\}$.\n",
    "\n",
    "The empty set is the set with no elements (denoted $\\emptyset$) with the empty set also being a subset of itself ($H = \\emptyset$)."
   ]
  },
  {
   "cell_type": "markdown",
   "metadata": {},
   "source": [
    "Now, let us discuss subsets of $[n]$ with exactly $k$ elements. For example, there are **six** 2-element subsets of $[4]$:\n",
    "* $\\{1, 2\\}$\n",
    "* $\\{1, 3\\}$\n",
    "* $\\{1, 4\\}$\n",
    "* $\\{2, 3\\}$\n",
    "* $\\{2, 4\\}$\n",
    "* $\\{3, 4\\}$\n",
    "\n",
    "There are four 3-element subsets of $[4]$:\n",
    "* $\\{1, 2, 3\\}$\n",
    "* $\\{1, 2, 4\\}$\n",
    "* $\\{1, 3, 4\\}$\n",
    "* $\\{2, 3, 4\\}$\n",
    "\n",
    "**PAUSE & THINK** How many 3-elements subsets of $[5]$ are there? And what are they?"
   ]
  },
  {
   "cell_type": "markdown",
   "metadata": {},
   "source": [
    "How can we use Python to find the $k$-element subsets of $[n]$?  \n",
    "Fortunately for us, Python has\n",
    "the [`itertools`](https://docs.python.org/3/library/itertools.html) module with\n",
    "the [`combinations`](https://docs.python.org/3/library/itertools.html#itertools.combinations) function, defined as:\n",
    "> `itertools.combinations(iterable, r)`  \n",
    "> Returns `r` length subsequences of elements from the input *iterable*.\n",
    "\n",
    "The `combinations` function also returns the subsets in lexicographic order (numerical order in this case) which is really useful, as we will find out soon.  "
   ]
  },
  {
   "cell_type": "markdown",
   "metadata": {},
   "source": [
    "### Example 1.0\n",
    "Let us use the `combinations` function to find all the 3-element substes of $[5]$.\n",
    "\n",
    "**Note**: `itertools.combinations(iterable, r) == it.combinations(iterable, r)`"
   ]
  },
  {
   "cell_type": "code",
   "execution_count": 6,
   "metadata": {},
   "outputs": [
    {
     "name": "stdout",
     "output_type": "stream",
     "text": [
      "There are 10 3-element subsets of [ 5 ]:\n",
      "(1, 2, 3)\n",
      "(1, 2, 4)\n",
      "(1, 2, 5)\n",
      "(1, 3, 4)\n",
      "(1, 3, 5)\n",
      "(1, 4, 5)\n",
      "(2, 3, 4)\n",
      "(2, 3, 5)\n",
      "(2, 4, 5)\n",
      "(3, 4, 5)\n"
     ]
    }
   ],
   "source": [
    "import itertools as it\n",
    "\n",
    "# 1. Initialize variables.\n",
    "n = 5\n",
    "k = 3\n",
    "\n",
    "# 2. range() creates a set from 1 (inclusive) to n + 1 (exclusive).\n",
    "n_set = range(1, n + 1)\n",
    "\n",
    "# 4. Convert the results into an iteratble list object, list()\n",
    "k_element_subsets = list(it.combinations(n_set, k))\n",
    "\n",
    "# 5. Print results.\n",
    "print('There are', len(k_element_subsets), str(k) + '-element subsets of [', n , ']:')\n",
    "\n",
    "for k_subset in k_element_subsets:\n",
    "    print(k_subset)"
   ]
  },
  {
   "cell_type": "markdown",
   "metadata": {},
   "source": [
    "## How can we find ALL subsets of $[n]$?"
   ]
  },
  {
   "cell_type": "markdown",
   "metadata": {},
   "source": [
    "This means that we would like to find subsets with exactly $0, 1, 2,\\dots, n$ elements.\n",
    "\n",
    "Let us first write some *pseudo-code*:\n",
    "\n",
    "* initialize `n`.\n",
    "* initialize our set `n_set` using `range` on `n`. ($1,...,n$)\n",
    "* initialize our set of `k_values` to call on the `combinations` function. ($k=0,1,...,n$)\n",
    "* initialize `total_subsets` to zero.\n",
    "* iterate through `k_values`.\n",
    "    * call the `combinations` function with our given `k` value.\n",
    "    * set the returned value to an object called `k_element_subsets`.\n",
    "    * increment `total_subsets` by the number of elements in `k_element_subsets`.\n",
    "    * print the elements in `k_element_subsets`.\n",
    "* print `total_subsets`."
   ]
  },
  {
   "cell_type": "markdown",
   "metadata": {},
   "source": [
    "### Example 1.1"
   ]
  },
  {
   "cell_type": "code",
   "execution_count": 7,
   "metadata": {},
   "outputs": [
    {
     "name": "stdout",
     "output_type": "stream",
     "text": [
      "0-element subsets: [()] \n",
      "\n",
      "1-element subsets: [(1,), (2,), (3,), (4,), (5,)] \n",
      "\n",
      "2-element subsets: [(1, 2), (1, 3), (1, 4), (1, 5), (2, 3), (2, 4), (2, 5), (3, 4), (3, 5), (4, 5)] \n",
      "\n",
      "3-element subsets: [(1, 2, 3), (1, 2, 4), (1, 2, 5), (1, 3, 4), (1, 3, 5), (1, 4, 5), (2, 3, 4), (2, 3, 5), (2, 4, 5), (3, 4, 5)] \n",
      "\n",
      "4-element subsets: [(1, 2, 3, 4), (1, 2, 3, 5), (1, 2, 4, 5), (1, 3, 4, 5), (2, 3, 4, 5)] \n",
      "\n",
      "5-element subsets: [(1, 2, 3, 4, 5)] \n",
      "\n",
      "There are 32 subsets of the set [ 5 ].\n"
     ]
    }
   ],
   "source": [
    "# 1. Create our set: (1, 2, ..., n) [left-inclusive && right-exclusive].\n",
    "n = 5\n",
    "n_set = range(1, n + 1)\n",
    "\n",
    "# 2. Create set of k-values: (0, 1, 2, ..., n) [left-inclusive && right-exclusive].\n",
    "k_values = range(n + 1)\n",
    "\n",
    "# 3. Keep track of the total number of subsets.\n",
    "total_subsets = 0\n",
    "\n",
    "# 4. Iterate through k values.\n",
    "for k in k_values:\n",
    "    # 5. Get the subset of k elemenets from our set.\n",
    "    k_element_subsets = list(it.combinations(n_set, k))\n",
    "    \n",
    "    # 6. Increment the total # of subsets by the size\n",
    "    total_subsets += len(k_element_subsets)\n",
    "    \n",
    "    # 7. Print the subset.\n",
    "    print(str(k) + '-element subsets:', k_element_subsets, '\\n')\n",
    "\n",
    "# 8. Print the total # of subsets.\n",
    "print('There are', total_subsets, 'subsets of the set [', n , '].')"
   ]
  },
  {
   "cell_type": "markdown",
   "metadata": {},
   "source": [
    "## Functions!\n",
    "\n",
    "Let us create some `functions` to make our life easier."
   ]
  },
  {
   "cell_type": "code",
   "execution_count": 8,
   "metadata": {},
   "outputs": [],
   "source": [
    "def get_k_subsets(elements, k):\n",
    "    ''' Returns a list of subsets with exactly k elements. '''\n",
    "    return list(it.combinations(elements, k))\n",
    "\n",
    "def get_all_subsets(elements):\n",
    "    ''' Returns a list of all possible subsets given a set of elements. '''\n",
    "    size = len(elements)\n",
    "    subsets = []\n",
    "    k_values = range(size + 1)\n",
    "    for k in k_values:\n",
    "        subsets += get_k_subsets(elements, k)\n",
    "    return subsets"
   ]
  },
  {
   "cell_type": "markdown",
   "metadata": {},
   "source": [
    "### Example 1.2\n",
    "\n",
    "Let's test out our functions!"
   ]
  },
  {
   "cell_type": "code",
   "execution_count": 9,
   "metadata": {},
   "outputs": [
    {
     "name": "stdout",
     "output_type": "stream",
     "text": [
      "3-element subsets: [(1, 2, 3), (1, 2, 4), (1, 3, 4), (2, 3, 4)]\n",
      "\n",
      "All subsets:\n",
      " [(), (1,), (2,), (3,), (4,), (1, 2), (1, 3), (1, 4), (2, 3), (2, 4), (3, 4), (1, 2, 3), (1, 2, 4), (1, 3, 4), (2, 3, 4), (1, 2, 3, 4)]\n"
     ]
    }
   ],
   "source": [
    "n = 4\n",
    "k = 3\n",
    "\n",
    "# 'range' creates a set from 1 (inclusive) to n + 1 (exclusive).\n",
    "n_set = range(1, n + 1)\n",
    "\n",
    "print(str(k) + '-element subsets:', get_k_subsets(n_set, k))\n",
    "print('\\nAll subsets:\\n', get_all_subsets(n_set))"
   ]
  },
  {
   "cell_type": "markdown",
   "metadata": {},
   "source": [
    "## Total Number of Subsets"
   ]
  },
  {
   "cell_type": "markdown",
   "metadata": {},
   "source": [
    "How can we count the total number of subsets of a set $[n]$ without actually writing down *all* the possible answers?\n",
    "\n",
    "Well, for every element in $[n]$, we have exactly two options: either we choose to include that element in the subset or we don't.  \n",
    "\n",
    "|\\{ 1 | , | 2 | , | 3 | , | 4 | , | ... | , | n \\}|\n",
    "|---|---|---|---|---|---|---|---|-----|---|---|\n",
    "| 2 | $\\times$ | 2 | $\\times$ | 2 | $\\times$ | 2 | $\\times$ | ... | $\\times$ | 2 |\n",
    "\n",
    "This tells us that there are $2^n$ total subsets of $[n]$:\n",
    "\n",
    "In Example 1.1, when $n=5$ we found that there were $2^5 = 2 \\times 2 \\times 2 \\times 2 \\times 2 = 4 \\times 4 \\times 2 = 16 \\times 2 = 32 $ subsets."
   ]
  },
  {
   "cell_type": "markdown",
   "metadata": {},
   "source": [
    "### Example 1.3\n",
    "\n",
    "Let us confirm that we are correct by using our `get_all_subsets` function on multiple `n` values and printing out the number of subsets we have at each call, using the `len` function."
   ]
  },
  {
   "cell_type": "code",
   "execution_count": 10,
   "metadata": {},
   "outputs": [
    {
     "name": "stdout",
     "output_type": "stream",
     "text": [
      "n = 0 : 1 \t 2**0 = 1\n",
      "n = 1 : 2 \t 2**1 = 2\n",
      "n = 2 : 4 \t 2**2 = 4\n",
      "n = 3 : 8 \t 2**3 = 8\n",
      "n = 4 : 16 \t 2**4 = 16\n",
      "n = 5 : 32 \t 2**5 = 32\n",
      "n = 6 : 64 \t 2**6 = 64\n",
      "n = 7 : 128 \t 2**7 = 128\n",
      "n = 8 : 256 \t 2**8 = 256\n",
      "n = 9 : 512 \t 2**9 = 512\n",
      "n = 10 : 1024 \t 2**10 = 1024\n"
     ]
    }
   ],
   "source": [
    "max_n = 10\n",
    "\n",
    "for n in range(0, max_n + 1):\n",
    "    n_set = range(1, n + 1)\n",
    "    all_subsets = get_all_subsets(n_set)\n",
    "    calculated_value = len(all_subsets)\n",
    "    predicted_value = 2**n\n",
    "    assert calculated_value == predicted_value\n",
    "\n",
    "    print('n =', n, ':', calculated_value, '\\t 2**' + str(n) + ' =', str(predicted_value))"
   ]
  },
  {
   "cell_type": "markdown",
   "metadata": {},
   "source": [
    "## Combinations"
   ]
  },
  {
   "cell_type": "markdown",
   "metadata": {},
   "source": [
    "Previously, we were able to count the total number of subsets but now we want to count the number of subsets with a specific number of elements. For example, how many 2-element subsets of $[5]$ are there?\n",
    "\n",
    "We can only chose two elements so we have 5 choices for the first element and 4 choices for the second element:\n",
    "\n",
    "$$ 5 \\times 4$$\n",
    "\n",
    "However, this would mean that the subset $\\{2, 3\\}$ is different from the subset $\\{3, 2\\}$. This means we overcounted.\n",
    "\n",
    "To remove the overcounting, we must divide by 2 factorial ($2!=2\\times1$) since there are 2 choices for where to place the first element and 1 choice for the second element. Thus, we get:\n",
    "\n",
    "$$ \\frac{5\\times4}{2} $$\n",
    "\n",
    "Notice that $5 \\times 4$ is the same as $\\dfrac{5!}{3!}$ since the fraction $\\dfrac{5\\times4\\times3\\times2\\times1}{3\\times2\\times1}$ reduces to $5 \\times 4$.\n",
    "\n",
    "Thus, we can express the number of 2-element subsets of $[5]$ such as:\n",
    "\n",
    "$$ \\dfrac{5!}{2!\\times3!} = 10 $$\n",
    "\n",
    "Let us denote \n",
    "$${n \\choose k} = \\dfrac{n!}{k! \\times (n-k)!}$$\n",
    "as \"n *choose* k\", the number of ways to choose k elements from a set of n elements.\n",
    "\n",
    "The fraction $\\dfrac{n!}{(n-k)!} = n \\times (n-1) \\times (n-2) \\times \\dots \\times (n-k+1)$ which represents the number of ways put k elements from n elements in some order.\n",
    "\n",
    "The $k!$ removes the ordering since we are dividing by the number of ways to order k elements.\n",
    "\n",
    "Thus, $$ {5 \\choose 2} = 10 $$"
   ]
  },
  {
   "cell_type": "markdown",
   "metadata": {},
   "source": [
    "### Example 1.4\n",
    "\n",
    "Let's make sure that there are actually 10 2-element subsets of 5."
   ]
  },
  {
   "cell_type": "code",
   "execution_count": 18,
   "metadata": {},
   "outputs": [
    {
     "name": "stdout",
     "output_type": "stream",
     "text": [
      "There are 10 2-element subsets of the set [ 5 ].\n"
     ]
    }
   ],
   "source": [
    "# 1. Initialize variables.\n",
    "n, k = 5, 2\n",
    "\n",
    "# 2. Create the set.\n",
    "n_set = range(1, n + 1)\n",
    "\n",
    "# 3. Call the k-element subset function.\n",
    "k_subsets = get_k_subsets(n_set, k)\n",
    "\n",
    "# 4. Get the size of our list.\n",
    "size = len(k_subsets)\n",
    "\n",
    "# 5. Print results.\n",
    "print('There are', size, str(k) + '-element subsets of the set [', n , '].')"
   ]
  },
  {
   "cell_type": "markdown",
   "metadata": {},
   "source": [
    "### Example 1.5\n",
    "\n",
    "Let's try another example, say $6\\choose3$.\n",
    "\n",
    "$$ {6\\choose3} = \\dfrac{6!}{3!\\times3!} = 20$$"
   ]
  },
  {
   "cell_type": "code",
   "execution_count": 19,
   "metadata": {},
   "outputs": [
    {
     "name": "stdout",
     "output_type": "stream",
     "text": [
      "There are 20 3-element subsets of the set [ 6 ].\n"
     ]
    }
   ],
   "source": [
    "# 1. Initialize variables.\n",
    "n, k = 6, 3\n",
    "\n",
    "# 2. Create the set.\n",
    "n_set = range(1, n + 1)\n",
    "\n",
    "# 3. Call the k-element subset function.\n",
    "k_subsets = get_k_subsets(n_set, k)\n",
    "\n",
    "# 4. Get the size of our list.\n",
    "size = len(k_subsets)\n",
    "\n",
    "# 5. Print results.\n",
    "print('There are', size, str(k) + '-element subsets of the set [', n , '].')"
   ]
  },
  {
   "cell_type": "markdown",
   "metadata": {},
   "source": [
    "### Factorial and Combinatorial Functions\n",
    "\n",
    "Let's create a function to compute the combinatorial expression but first we need to create a function that returns the factorial product of a given number."
   ]
  },
  {
   "cell_type": "code",
   "execution_count": 24,
   "metadata": {},
   "outputs": [],
   "source": [
    "def factorial(n):\n",
    "    ''' Returns the factorial product of the given argument n.'''\n",
    "    \n",
    "    product = 1\n",
    "    \n",
    "    while n >= 1:\n",
    "        \n",
    "        product = product * n\n",
    "        \n",
    "        n = n - 1\n",
    "        \n",
    "    return product\n",
    "\n",
    "assert factorial(0) == 1\n",
    "assert factorial(1) == 1\n",
    "assert factorial(3) == 3*2*1\n",
    "assert factorial(4) == 4*3*2*1\n",
    "assert factorial(6) == 6*5*4*3*2*1"
   ]
  },
  {
   "cell_type": "code",
   "execution_count": 35,
   "metadata": {},
   "outputs": [],
   "source": [
    "# The '//' operator removes the decimals the digits after the decimal.\n",
    "def combination(n, k):\n",
    "    ''' Returns the combinatorial product given arguments n and k. Often read as \"n choose k\".'''\n",
    "    \n",
    "    numerator = factorial(n)\n",
    "    \n",
    "    denominator = factorial(k) * factorial(n-k)\n",
    "    \n",
    "    return numerator // denominator\n",
    "\n",
    "assert combination(5,2) == 10\n",
    "assert combination(6,3) == 20\n",
    "assert combination(5,3) == 10\n",
    "assert combination(1,1) == 1\n",
    "assert combination(2,1) == 2\n",
    "assert combination(4,2) == 6"
   ]
  },
  {
   "cell_type": "markdown",
   "metadata": {},
   "source": [
    "## Summation of Combinations\n",
    "\n",
    "In Example 1.1, we found that there were 32 subsets of the set $[5]$ by iterating over the possible k-values and incrementing the total number of subsets by the size of the k-element subsets. Since we know how to compute the number of k-element subsets, we should also get the same result.\n",
    "\n",
    "In order words:\n",
    "\n",
    "$$ \\sum_{k = 0}^{n} {n\\choose k} = 2^n $$"
   ]
  },
  {
   "cell_type": "markdown",
   "metadata": {},
   "source": [
    "### Example 1.6\n",
    "\n",
    "To do this, we need to iterate over the possible k-values but instead calling the combination function and adding all the results."
   ]
  },
  {
   "cell_type": "code",
   "execution_count": 37,
   "metadata": {},
   "outputs": [
    {
     "name": "stdout",
     "output_type": "stream",
     "text": [
      "There are 32 subsets of the set [ 5 ].\n"
     ]
    }
   ],
   "source": [
    "# 1. Initialize variables.\n",
    "n = 5\n",
    "total_subsets = 0\n",
    "\n",
    "# 2. Initialize the set of possible k-values.\n",
    "k_values = range(0, n + 1)\n",
    "\n",
    "# 3. Iterate through k-values.\n",
    "for k in k_values:\n",
    "    total_subsets = total_subsets + combination(n, k)\n",
    "\n",
    "# 4. Print results\n",
    "print('There are', total_subsets, 'subsets of the set [', n , '].')"
   ]
  },
  {
   "cell_type": "markdown",
   "metadata": {},
   "source": [
    "### Example 1.7\n",
    "\n",
    "Let's create a function that returns the total number of subsets of $[n]$ using the summation template as above.\n",
    "\n",
    "Then we want to make sure that this summation produces the same result as the formula we found earlier ($2^n$)."
   ]
  },
  {
   "cell_type": "code",
   "execution_count": 43,
   "metadata": {},
   "outputs": [],
   "source": [
    "def total_combinations(n):\n",
    "    total_subsets = 0\n",
    "\n",
    "    k_values = range(0, n + 1)\n",
    "\n",
    "    for k in k_values:\n",
    "        total_subsets = total_subsets + combination(n, k)\n",
    "        \n",
    "    return total_subsets\n",
    "\n",
    "assert total_combinations(0) == 2**0\n",
    "assert total_combinations(1) == 2**1\n",
    "assert total_combinations(2) == 2**2\n",
    "assert total_combinations(5) == 2**5\n",
    "assert total_combinations(10) == 2**10\n",
    "assert total_combinations(15) == 2**15"
   ]
  },
  {
   "cell_type": "code",
   "execution_count": null,
   "metadata": {},
   "outputs": [],
   "source": []
  }
 ],
 "metadata": {
  "kernelspec": {
   "display_name": "Python 3",
   "language": "python",
   "name": "python3"
  },
  "language_info": {
   "codemirror_mode": {
    "name": "ipython",
    "version": 3
   },
   "file_extension": ".py",
   "mimetype": "text/x-python",
   "name": "python",
   "nbconvert_exporter": "python",
   "pygments_lexer": "ipython3",
   "version": "3.7.0"
  }
 },
 "nbformat": 4,
 "nbformat_minor": 2
}
